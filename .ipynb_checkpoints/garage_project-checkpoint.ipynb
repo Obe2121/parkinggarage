{
 "cells": [
  {
   "cell_type": "code",
   "execution_count": 40,
   "id": "a9baf8fd",
   "metadata": {},
   "outputs": [
    {
     "name": "stdout",
     "output_type": "stream",
     "text": [
      "What would you like to do? Park, Pay, or Leave park\n",
      "[2, 3, 4, 5, 6, 7, 8, 9, 10]\n",
      "{1: 'unpaid'}\n",
      "What would you like to do? Park, Pay, or Leave park\n",
      "[3, 4, 5, 6, 7, 8, 9, 10]\n",
      "{1: 'unpaid', 2: 'unpaid'}\n",
      "What would you like to do? Park, Pay, or Leave park\n",
      "[4, 5, 6, 7, 8, 9, 10]\n",
      "{1: 'unpaid', 2: 'unpaid', 3: 'unpaid'}\n",
      "What would you like to do? Park, Pay, or Leave pay\n",
      "Please input Ticket Number 1\n"
     ]
    },
    {
     "ename": "NameError",
     "evalue": "name 'ticket_num' is not defined",
     "output_type": "error",
     "traceback": [
      "\u001b[0;31m---------------------------------------------------------------------------\u001b[0m",
      "\u001b[0;31mNameError\u001b[0m                                 Traceback (most recent call last)",
      "\u001b[0;32m<ipython-input-40-2121031a97b6>\u001b[0m in \u001b[0;36m<module>\u001b[0;34m\u001b[0m\n\u001b[1;32m     59\u001b[0m \u001b[0mticket\u001b[0m \u001b[0;34m=\u001b[0m \u001b[0;34m[\u001b[0m\u001b[0;36m1\u001b[0m\u001b[0;34m,\u001b[0m \u001b[0;36m2\u001b[0m\u001b[0;34m,\u001b[0m \u001b[0;36m3\u001b[0m\u001b[0;34m,\u001b[0m \u001b[0;36m4\u001b[0m\u001b[0;34m,\u001b[0m \u001b[0;36m5\u001b[0m\u001b[0;34m,\u001b[0m \u001b[0;36m6\u001b[0m\u001b[0;34m,\u001b[0m \u001b[0;36m7\u001b[0m\u001b[0;34m,\u001b[0m \u001b[0;36m8\u001b[0m\u001b[0;34m,\u001b[0m \u001b[0;36m9\u001b[0m\u001b[0;34m,\u001b[0m \u001b[0;36m10\u001b[0m\u001b[0;34m]\u001b[0m\u001b[0;34m\u001b[0m\u001b[0;34m\u001b[0m\u001b[0m\n\u001b[1;32m     60\u001b[0m \u001b[0mparking_space\u001b[0m \u001b[0;34m=\u001b[0m \u001b[0;34m[\u001b[0m\u001b[0;36m1\u001b[0m\u001b[0;34m,\u001b[0m \u001b[0;36m2\u001b[0m\u001b[0;34m,\u001b[0m \u001b[0;36m3\u001b[0m\u001b[0;34m,\u001b[0m \u001b[0;36m4\u001b[0m\u001b[0;34m,\u001b[0m \u001b[0;36m5\u001b[0m\u001b[0;34m,\u001b[0m \u001b[0;36m6\u001b[0m\u001b[0;34m,\u001b[0m \u001b[0;36m7\u001b[0m\u001b[0;34m,\u001b[0m \u001b[0;36m8\u001b[0m\u001b[0;34m,\u001b[0m \u001b[0;36m9\u001b[0m\u001b[0;34m,\u001b[0m \u001b[0;36m10\u001b[0m\u001b[0;34m]\u001b[0m\u001b[0;34m\u001b[0m\u001b[0;34m\u001b[0m\u001b[0m\n\u001b[0;32m---> 61\u001b[0;31m \u001b[0mgarage_program\u001b[0m\u001b[0;34m.\u001b[0m\u001b[0mrun_program\u001b[0m\u001b[0;34m(\u001b[0m\u001b[0;34m)\u001b[0m\u001b[0;34m\u001b[0m\u001b[0;34m\u001b[0m\u001b[0m\n\u001b[0m\u001b[1;32m     62\u001b[0m \u001b[0;34m\u001b[0m\u001b[0m\n\u001b[1;32m     63\u001b[0m \u001b[0;34m\u001b[0m\u001b[0m\n",
      "\u001b[0;32m<ipython-input-40-2121031a97b6>\u001b[0m in \u001b[0;36mrun_program\u001b[0;34m(self)\u001b[0m\n\u001b[1;32m     13\u001b[0m \u001b[0;34m\u001b[0m\u001b[0m\n\u001b[1;32m     14\u001b[0m             \u001b[0;32melif\u001b[0m \u001b[0mresponse\u001b[0m\u001b[0;34m.\u001b[0m\u001b[0mlower\u001b[0m\u001b[0;34m(\u001b[0m\u001b[0;34m)\u001b[0m \u001b[0;34m==\u001b[0m \u001b[0;34m\"pay\"\u001b[0m\u001b[0;34m:\u001b[0m\u001b[0;34m\u001b[0m\u001b[0;34m\u001b[0m\u001b[0m\n\u001b[0;32m---> 15\u001b[0;31m                 \u001b[0mself\u001b[0m\u001b[0;34m.\u001b[0m\u001b[0mpay_for_parking\u001b[0m\u001b[0;34m(\u001b[0m\u001b[0;34m)\u001b[0m\u001b[0;34m\u001b[0m\u001b[0;34m\u001b[0m\u001b[0m\n\u001b[0m\u001b[1;32m     16\u001b[0m \u001b[0;34m\u001b[0m\u001b[0m\n\u001b[1;32m     17\u001b[0m             \u001b[0;32melif\u001b[0m \u001b[0mresponse\u001b[0m\u001b[0;34m.\u001b[0m\u001b[0mlower\u001b[0m\u001b[0;34m(\u001b[0m\u001b[0;34m)\u001b[0m \u001b[0;34m==\u001b[0m \u001b[0;34m\"leave\"\u001b[0m\u001b[0;34m:\u001b[0m\u001b[0;34m\u001b[0m\u001b[0;34m\u001b[0m\u001b[0m\n",
      "\u001b[0;32m<ipython-input-40-2121031a97b6>\u001b[0m in \u001b[0;36mpay_for_parking\u001b[0;34m(self)\u001b[0m\n\u001b[1;32m     33\u001b[0m         \u001b[0;32mwhile\u001b[0m \u001b[0;32mTrue\u001b[0m\u001b[0;34m:\u001b[0m\u001b[0;34m\u001b[0m\u001b[0;34m\u001b[0m\u001b[0m\n\u001b[1;32m     34\u001b[0m             \u001b[0mresponse\u001b[0m \u001b[0;34m=\u001b[0m \u001b[0minput\u001b[0m\u001b[0;34m(\u001b[0m\u001b[0;34m'Please input Ticket Number '\u001b[0m\u001b[0;34m)\u001b[0m\u001b[0;34m\u001b[0m\u001b[0;34m\u001b[0m\u001b[0m\n\u001b[0;32m---> 35\u001b[0;31m             \u001b[0;32mif\u001b[0m \u001b[0mresponse\u001b[0m \u001b[0;34m==\u001b[0m \u001b[0mticket_num\u001b[0m \u001b[0;32min\u001b[0m \u001b[0mcurrent_ticket\u001b[0m\u001b[0;34m:\u001b[0m\u001b[0;34m\u001b[0m\u001b[0;34m\u001b[0m\u001b[0m\n\u001b[0m\u001b[1;32m     36\u001b[0m                 \u001b[0minput\u001b[0m\u001b[0;34m(\u001b[0m\u001b[0;34m\"Press any key to pay\"\u001b[0m\u001b[0;34m)\u001b[0m\u001b[0;34m\u001b[0m\u001b[0;34m\u001b[0m\u001b[0m\n\u001b[1;32m     37\u001b[0m                 \u001b[0mcurrent_ticket\u001b[0m\u001b[0;34m[\u001b[0m\u001b[0mticket\u001b[0m\u001b[0;34m]\u001b[0m \u001b[0;34m=\u001b[0m \u001b[0;34m\"paid\"\u001b[0m\u001b[0;34m\u001b[0m\u001b[0;34m\u001b[0m\u001b[0m\n",
      "\u001b[0;31mNameError\u001b[0m: name 'ticket_num' is not defined"
     ]
    }
   ],
   "source": [
    "from IPython.display import clear_output\n",
    "\n",
    "class Parking_Garage():\n",
    "    def __init__(self):\n",
    "        pass\n",
    "    \n",
    "    def run_program(self):\n",
    "        clear_output\n",
    "        while True:\n",
    "            response = input(\"What would you like to do? Park, Pay, or Leave \")\n",
    "            if response.lower() == \"park\":\n",
    "                self.take_ticket()\n",
    "            \n",
    "            elif response.lower() == \"pay\":\n",
    "                self.pay_for_parking()\n",
    "                \n",
    "            elif response.lower() == \"leave\":\n",
    "                self.leave_garage()\n",
    "\n",
    "            elif response.lower == \"quit\":\n",
    "                  break\n",
    "        \n",
    "\n",
    "    def take_ticket(self): #amount up or down by one\n",
    "            ticket_num = ticket\n",
    "            space_num = parking_space.pop(0)\n",
    "            current_tickets[ticket.pop(0)] = \"unpaid\"\n",
    "            print(ticket)\n",
    "            print(current_tickets)\n",
    "\n",
    "  \n",
    "    def pay_for_parking(self): #how are you going to pay \n",
    "        while True:\n",
    "            response = input('Please input Ticket Number ')\n",
    "            if response == current_tickets[ticket]:\n",
    "                input(\"Press any key to pay\")\n",
    "                current_ticket[ticket] = \"paid\"\n",
    "          \n",
    "            else:\n",
    "                print(\"Please input a valid Ticket Number\")\n",
    "\n",
    "    \n",
    "    def leave_garage(self):#is your ticket paid or not\n",
    "        while True:\n",
    "            key = input('please input ticket number ')\n",
    "            if key == key in current_tickets and value == \"paid\":\n",
    "                current_ticket.pop(key)\n",
    "                ticket.append(key)\n",
    "                parking_space.append(key)\n",
    "                print(\"Have a good Day!\")\n",
    "\n",
    "            else:\n",
    "                print(\"Please Pay your Ticket\")\n",
    "            \n",
    "            \n",
    "              \n",
    "garage_program = Parking_Garage()\n",
    "current_tickets = {} \n",
    "ticket = [1, 2, 3, 4, 5, 6, 7, 8, 9, 10]\n",
    "parking_space = [1, 2, 3, 4, 5, 6, 7, 8, 9, 10]\n",
    "garage_program.run_program()\n",
    "                 \n",
    "                  "
   ]
  },
  {
   "cell_type": "code",
   "execution_count": null,
   "id": "c4c5448a",
   "metadata": {},
   "outputs": [],
   "source": []
  },
  {
   "cell_type": "code",
   "execution_count": null,
   "id": "90665721",
   "metadata": {},
   "outputs": [],
   "source": []
  }
 ],
 "metadata": {
  "kernelspec": {
   "display_name": "Python 3",
   "language": "python",
   "name": "python3"
  },
  "language_info": {
   "codemirror_mode": {
    "name": "ipython",
    "version": 3
   },
   "file_extension": ".py",
   "mimetype": "text/x-python",
   "name": "python",
   "nbconvert_exporter": "python",
   "pygments_lexer": "ipython3",
   "version": "3.8.8"
  }
 },
 "nbformat": 4,
 "nbformat_minor": 5
}
